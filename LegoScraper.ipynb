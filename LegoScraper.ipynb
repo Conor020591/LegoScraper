{
 "cells": [
  {
   "cell_type": "code",
   "execution_count": 56,
   "id": "9aac9b17",
   "metadata": {},
   "outputs": [
    {
     "name": "stdout",
     "output_type": "stream",
     "text": [
      "Packages Imported\n"
     ]
    }
   ],
   "source": [
    "#Import Libraries\n",
    "import numpy as np\n",
    "import pandas as pd\n",
    "import tensorflow as tf\n",
    "from tensorflow.keras import layers\n",
    "from matplotlib import pyplot as plt\n",
    "from matplotlib import rcParams\n",
    "import selenium\n",
    "from selenium import webdriver\n",
    "from selenium.webdriver.common.keys import Keys\n",
    "from selenium.webdriver.common.by import By\n",
    "from selenium.webdriver.chrome.options import Options\n",
    "#import seaborn as sns\n",
    "\n",
    "from selenium import webdriver\n",
    "\n",
    "print('Packages Imported')"
   ]
  },
  {
   "cell_type": "code",
   "execution_count": 57,
   "id": "3684dd7f",
   "metadata": {},
   "outputs": [],
   "source": [
    "options = Options()\n",
    "\n",
    "options.add_argument(\"--window-size=1920,1200\")\n",
    "options.add_argument('--headless')\n",
    "\n",
    "driver = webdriver.Chrome(options=options)\n",
    "driver.get('https://brickset.com/sets/75192-1/Millennium-Falcon/')"
   ]
  },
  {
   "cell_type": "code",
   "execution_count": 73,
   "id": "5c3e18bc",
   "metadata": {},
   "outputs": [
    {
     "name": "stdout",
     "output_type": "stream",
     "text": [
      "Millennium Falcon\n"
     ]
    }
   ],
   "source": [
    "#get name\n",
    "def get_name(driver):\n",
    "    name_element = driver.find_element(By.XPATH, \"//dt[contains(text(), 'Name')]/following-sibling::dd\")\n",
    "    return name_element.text\n",
    "print(get_name(driver))"
   ]
  },
  {
   "cell_type": "code",
   "execution_count": 78,
   "id": "b8aaeb25",
   "metadata": {},
   "outputs": [
    {
     "name": "stdout",
     "output_type": "stream",
     "text": [
      "849.99\n"
     ]
    }
   ],
   "source": [
    "#get dollar price\n",
    "def get_price_dollars(driver):\n",
    "    price = 0\n",
    "    price_element = driver.find_element(By.XPATH, \"//dt[contains(text(), 'RRP')]/following-sibling::dd\")\n",
    "    for i in price_element.text.split('/'):\n",
    "        if '$' in i:\n",
    "            price = i.strip().replace('$','')\n",
    "    return price\n",
    "\n",
    "print(float(get_price_dollars(driver)))"
   ]
  },
  {
   "cell_type": "code",
   "execution_count": null,
   "id": "cb458372",
   "metadata": {},
   "outputs": [],
   "source": []
  }
 ],
 "metadata": {
  "kernelspec": {
   "display_name": "Python 3 (ipykernel)",
   "language": "python",
   "name": "python3"
  },
  "language_info": {
   "codemirror_mode": {
    "name": "ipython",
    "version": 3
   },
   "file_extension": ".py",
   "mimetype": "text/x-python",
   "name": "python",
   "nbconvert_exporter": "python",
   "pygments_lexer": "ipython3",
   "version": "3.10.9"
  }
 },
 "nbformat": 4,
 "nbformat_minor": 5
}
