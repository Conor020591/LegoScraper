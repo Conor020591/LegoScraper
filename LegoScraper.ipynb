{
 "cells": [
  {
   "cell_type": "markdown",
   "id": "8d224aea",
   "metadata": {},
   "source": [
    "# Lego set info scraper"
   ]
  },
  {
   "cell_type": "markdown",
   "id": "35d9d621",
   "metadata": {},
   "source": [
    "## Importing needed packages"
   ]
  },
  {
   "cell_type": "code",
   "execution_count": 13,
   "id": "9aac9b17",
   "metadata": {},
   "outputs": [
    {
     "name": "stdout",
     "output_type": "stream",
     "text": [
      "Packages Imported\n"
     ]
    }
   ],
   "source": [
    "#Import Libraries\n",
    "import os\n",
    "import numpy as np\n",
    "import pandas as pd\n",
    "import selenium\n",
    "from selenium import webdriver\n",
    "from selenium.webdriver.common.keys import Keys\n",
    "from selenium.webdriver.common.by import By\n",
    "from selenium.webdriver.chrome.options import Options\n",
    "from selenium import webdriver\n",
    "from tqdm.notebook import tqdm\n",
    "print('Packages Imported')"
   ]
  },
  {
   "cell_type": "markdown",
   "id": "aaa6f80f",
   "metadata": {},
   "source": [
    "## Loading the set IDs scraped using GetIDFromSetList jupyter notebook as dataframes.\n",
    "I will be ignoring any of the IDs that start with ISBN as these are books."
   ]
  },
  {
   "cell_type": "code",
   "execution_count": 2,
   "id": "1a4a7dc0",
   "metadata": {},
   "outputs": [],
   "source": [
    "\n",
    "ID_df_raw = pd.read_csv('SetIDs.csv', header=None)\n",
    "ID_df_mod = ID_df_raw[ID_df_raw[0].str.contains(\"ISBN\")==False]\n"
   ]
  },
  {
   "cell_type": "markdown",
   "id": "64722954",
   "metadata": {},
   "source": [
    "Just a quick look at the data to get a feel for how many entries there are."
   ]
  },
  {
   "cell_type": "code",
   "execution_count": 3,
   "id": "7156363c",
   "metadata": {},
   "outputs": [
    {
     "data": {
      "text/html": [
       "<div>\n",
       "<style scoped>\n",
       "    .dataframe tbody tr th:only-of-type {\n",
       "        vertical-align: middle;\n",
       "    }\n",
       "\n",
       "    .dataframe tbody tr th {\n",
       "        vertical-align: top;\n",
       "    }\n",
       "\n",
       "    .dataframe thead th {\n",
       "        text-align: right;\n",
       "    }\n",
       "</style>\n",
       "<table border=\"1\" class=\"dataframe\">\n",
       "  <thead>\n",
       "    <tr style=\"text-align: right;\">\n",
       "      <th></th>\n",
       "      <th>0</th>\n",
       "    </tr>\n",
       "  </thead>\n",
       "  <tbody>\n",
       "    <tr>\n",
       "      <th>count</th>\n",
       "      <td>19144</td>\n",
       "    </tr>\n",
       "    <tr>\n",
       "      <th>unique</th>\n",
       "      <td>19144</td>\n",
       "    </tr>\n",
       "    <tr>\n",
       "      <th>top</th>\n",
       "      <td>700-12</td>\n",
       "    </tr>\n",
       "    <tr>\n",
       "      <th>freq</th>\n",
       "      <td>1</td>\n",
       "    </tr>\n",
       "  </tbody>\n",
       "</table>\n",
       "</div>"
      ],
      "text/plain": [
       "             0\n",
       "count    19144\n",
       "unique   19144\n",
       "top     700-12\n",
       "freq         1"
      ]
     },
     "execution_count": 3,
     "metadata": {},
     "output_type": "execute_result"
    }
   ],
   "source": [
    "ID_df_mod.describe()"
   ]
  },
  {
   "cell_type": "markdown",
   "id": "7a7008d3",
   "metadata": {},
   "source": [
    "Setting up the selenium options, again headless"
   ]
  },
  {
   "cell_type": "code",
   "execution_count": 8,
   "id": "3684dd7f",
   "metadata": {},
   "outputs": [],
   "source": [
    "#selenium options\n",
    "def selenium_setup():\n",
    "    options = Options()\n",
    "\n",
    "    options.add_argument(\"--window-size=1920,1200\")\n",
    "    options.add_argument('--headless')\n",
    "    return webdriver.Chrome(options=options)\n",
    "\n"
   ]
  },
  {
   "cell_type": "markdown",
   "id": "1e6806ec",
   "metadata": {},
   "source": [
    "## Functions for scraping data\n",
    "The first function is designed to scrape text elements from the webpage."
   ]
  },
  {
   "cell_type": "code",
   "execution_count": 5,
   "id": "5c3e18bc",
   "metadata": {
    "scrolled": true
   },
   "outputs": [],
   "source": [
    "\n",
    "def get_textElement(driver,pageSource, text):\n",
    "    return_text='null'\n",
    "    if \"<dt>\"+text+\"</dt>\"in  pageSource:\n",
    "        return_text = driver.find_element(By.XPATH, \"//dt[text() = '\"+text+\"']/following-sibling::dd\").text\n",
    "    return return_text"
   ]
  },
  {
   "cell_type": "markdown",
   "id": "49b267a7",
   "metadata": {},
   "source": [
    "The second function extracts the Price from the webpage and formats it so only the price in dollars is returned."
   ]
  },
  {
   "cell_type": "code",
   "execution_count": 6,
   "id": "b8aaeb25",
   "metadata": {},
   "outputs": [],
   "source": [
    "#get dollar price\n",
    "def get_price_dollars(driver,pageSource):\n",
    "    price = 0\n",
    "    if \"<dt>RRP</dt>\"in  pageSource:\n",
    "        price_element = driver.find_element(By.XPATH, \"//dt[text()= 'RRP']/following-sibling::dd\")\n",
    "        for i in price_element.text.split('/'):\n",
    "            if '$' in i:\n",
    "                price = i.strip().replace('$','')\n",
    "    return price\n"
   ]
  },
  {
   "cell_type": "markdown",
   "id": "179cbd3d",
   "metadata": {},
   "source": [
    "I create the dataframe with the necessary headings that can be populated from the website."
   ]
  },
  {
   "cell_type": "code",
   "execution_count": 7,
   "id": "2934a865",
   "metadata": {},
   "outputs": [
    {
     "data": {
      "text/html": [
       "<div>\n",
       "<style scoped>\n",
       "    .dataframe tbody tr th:only-of-type {\n",
       "        vertical-align: middle;\n",
       "    }\n",
       "\n",
       "    .dataframe tbody tr th {\n",
       "        vertical-align: top;\n",
       "    }\n",
       "\n",
       "    .dataframe thead th {\n",
       "        text-align: right;\n",
       "    }\n",
       "</style>\n",
       "<table border=\"1\" class=\"dataframe\">\n",
       "  <thead>\n",
       "    <tr style=\"text-align: right;\">\n",
       "      <th></th>\n",
       "      <th>Set_number</th>\n",
       "      <th>Name</th>\n",
       "      <th>Set_type</th>\n",
       "      <th>Theme</th>\n",
       "      <th>Theme_group</th>\n",
       "      <th>Subtheme</th>\n",
       "      <th>Year_released</th>\n",
       "      <th>Pieces</th>\n",
       "      <th>Minifigs</th>\n",
       "      <th>Price</th>\n",
       "      <th>Age_range</th>\n",
       "    </tr>\n",
       "  </thead>\n",
       "  <tbody>\n",
       "  </tbody>\n",
       "</table>\n",
       "</div>"
      ],
      "text/plain": [
       "Empty DataFrame\n",
       "Columns: [Set_number, Name, Set_type, Theme, Theme_group, Subtheme, Year_released, Pieces, Minifigs, Price, Age_range]\n",
       "Index: []"
      ]
     },
     "execution_count": 7,
     "metadata": {},
     "output_type": "execute_result"
    }
   ],
   "source": [
    "\n",
    "legoData_df = pd.DataFrame(columns=['Set_number','Name','Set_type','Theme','Theme_group','Subtheme','Year_released', 'Pieces','Minifigs','Price', 'Age_range' ])\n",
    "legoData_df"
   ]
  },
  {
   "cell_type": "markdown",
   "id": "e8683ee2",
   "metadata": {},
   "source": [
    "## Main loop for extracting data\n",
    "Here the main loop is executed for each ID that has been read in to extract the needed data.\n",
    "Of note is the minifigs feature as it not only contains the number of minifigs in a set but also the number of *unique* minifigures in brackets. Here I have formatted it to remove the unique minifig values as minifigs lose their unique status as time goes on and new sets come out. A value for \"unique minifigs on release\" would be of much greater interest.\n",
    "\n",
    "Here the value is printed every 100 IDs in order to get a feel for how much longer is left to run in the script."
   ]
  },
  {
   "cell_type": "code",
   "execution_count": 11,
   "id": "c27ee1be",
   "metadata": {},
   "outputs": [
    {
     "data": {
      "application/vnd.jupyter.widget-view+json": {
       "model_id": "34af762137e14f27902c5c9eaad27859",
       "version_major": 2,
       "version_minor": 0
      },
      "text/plain": [
       "  0%|          | 0/19144 [00:00<?, ?it/s]"
      ]
     },
     "metadata": {},
     "output_type": "display_data"
    },
    {
     "name": "stdout",
     "output_type": "stream",
     "text": [
      "Completed!\n"
     ]
    }
   ],
   "source": [
    "driver = selenium_setup()\n",
    "\n",
    "for i,legoID in enumerate(tqdm(ID_df_mod[0])):\n",
    "\n",
    "    driver.get('https://brickset.com/sets/'+str(legoID))\n",
    "    pageSource = driver.page_source\n",
    "\n",
    "\n",
    "    lego_name = get_textElement(driver,pageSource,\"Name\")\n",
    "    lego_setType = get_textElement(driver,pageSource,\"Set type\")\n",
    "    lego_theme = get_textElement(driver,pageSource,\"Theme\")\n",
    "    lego_themeGroup = get_textElement(driver,pageSource,\"Theme group\")\n",
    "    lego_subtheme = get_textElement(driver,pageSource,\"Subtheme\")\n",
    "    lego_yearReleased = get_textElement(driver,pageSource,\"Year released\")\n",
    "    lego_pieces = get_textElement(driver,pageSource,\"Pieces\")\n",
    " \n",
    "    lego_minifigs = get_textElement(driver,pageSource,\"Minifigs\").split(\" \",1)[0]\n",
    "    lego_price = get_price_dollars(driver,pageSource)\n",
    "    lego_ageRange = get_textElement(driver,pageSource,\"Age range\")\n",
    "\n",
    "\n",
    "    legoData_df.loc[len(legoData_df.index)] = [legoID,lego_name,lego_setType,lego_theme,lego_themeGroup,lego_subtheme, lego_yearReleased, \n",
    "                                     lego_pieces,lego_minifigs, lego_price, lego_ageRange]\n",
    "\n",
    "print(\"Completed!\")"
   ]
  },
  {
   "cell_type": "markdown",
   "id": "e048d676",
   "metadata": {},
   "source": [
    "Output dataframe to csv."
   ]
  },
  {
   "cell_type": "code",
   "execution_count": 27,
   "id": "80799dd5",
   "metadata": {},
   "outputs": [],
   "source": [
    "legoData_df.to_csv('legoData.csv', sep = ',', index=False)\n"
   ]
  },
  {
   "cell_type": "markdown",
   "id": "51f334b9",
   "metadata": {},
   "source": [
    "## Update"
   ]
  },
  {
   "cell_type": "code",
   "execution_count": 33,
   "id": "659fdc38",
   "metadata": {},
   "outputs": [
    {
     "data": {
      "application/vnd.jupyter.widget-view+json": {
       "model_id": "b08be9afb29c4bebb0243c8f1620c5b6",
       "version_major": 2,
       "version_minor": 0
      },
      "text/plain": [
       "  0%|          | 0/19355 [00:00<?, ?it/s]"
      ]
     },
     "metadata": {},
     "output_type": "display_data"
    },
    {
     "name": "stdout",
     "output_type": "stream",
     "text": [
      "Complete!\n"
     ]
    }
   ],
   "source": [
    "driver = selenium_setup()\n",
    "legoDataUpdate_df = pd.DataFrame(columns=['Set_number','Name','Set_type','Theme','Theme_group','Subtheme','Year_released', 'Pieces','Minifigs','Price', 'Age_range' ])\n",
    "if os.path.exists('legoData.csv'):\n",
    "    legoData_old_df = pd.read_csv('legoData.csv', index_col=False)\n",
    "    ID_df_raw = pd.read_csv('SetIDs.csv', header=None)\n",
    "    ID_df_mod = ID_df_raw[ID_df_raw[0].str.contains(\"ISBN\")==False]\n",
    "    for i,legoID in enumerate(tqdm(ID_df_mod[0])):\n",
    "        if ~legoData_old_df['Set_number'].str.contains((legoID)).any():\n",
    "            \n",
    "            driver.get('https://brickset.com/sets/'+str(legoID))\n",
    "            pageSource = driver.page_source\n",
    "\n",
    "\n",
    "            lego_name = get_textElement(driver,pageSource,\"Name\")\n",
    "            lego_setType = get_textElement(driver,pageSource,\"Set type\")\n",
    "            lego_theme = get_textElement(driver,pageSource,\"Theme\")\n",
    "            lego_themeGroup = get_textElement(driver,pageSource,\"Theme group\")\n",
    "            lego_subtheme = get_textElement(driver,pageSource,\"Subtheme\")\n",
    "            lego_yearReleased = get_textElement(driver,pageSource,\"Year released\")\n",
    "            lego_pieces = get_textElement(driver,pageSource,\"Pieces\")\n",
    "\n",
    "            lego_minifigs = get_textElement(driver,pageSource,\"Minifigs\").split(\" \",1)[0]\n",
    "            lego_price = get_price_dollars(driver,pageSource)\n",
    "            lego_ageRange = get_textElement(driver,pageSource,\"Age range\")\n",
    "\n",
    "\n",
    "            legoDataUpdate_df.loc[len(legoDataUpdate_df.index)] = [legoID,lego_name,lego_setType,lego_theme,lego_themeGroup,lego_subtheme, lego_yearReleased, \n",
    "                                     lego_pieces,lego_minifigs, lego_price, lego_ageRange]\n",
    "       \n",
    "      \n",
    "    if len(legoDataUpdate_df)>0:\n",
    "        fullData  = pd.concat([legoData_old_df,legoDataUpdate_df])    \n",
    "        fullData.to_csv('legoData.csv', sep = ',', index=False)\n",
    "    else:\n",
    "        print(\"No new entries\")\n",
    "    print(\"Complete!\")\n",
    "    \n",
    "else:\n",
    "   print(\"Perform initial run!\")"
   ]
  },
  {
   "cell_type": "code",
   "execution_count": 34,
   "id": "57b848df",
   "metadata": {},
   "outputs": [
    {
     "data": {
      "text/html": [
       "<div>\n",
       "<style scoped>\n",
       "    .dataframe tbody tr th:only-of-type {\n",
       "        vertical-align: middle;\n",
       "    }\n",
       "\n",
       "    .dataframe tbody tr th {\n",
       "        vertical-align: top;\n",
       "    }\n",
       "\n",
       "    .dataframe thead th {\n",
       "        text-align: right;\n",
       "    }\n",
       "</style>\n",
       "<table border=\"1\" class=\"dataframe\">\n",
       "  <thead>\n",
       "    <tr style=\"text-align: right;\">\n",
       "      <th></th>\n",
       "      <th>Set_number</th>\n",
       "      <th>Name</th>\n",
       "      <th>Set_type</th>\n",
       "      <th>Theme</th>\n",
       "      <th>Theme_group</th>\n",
       "      <th>Subtheme</th>\n",
       "      <th>Year_released</th>\n",
       "      <th>Pieces</th>\n",
       "      <th>Minifigs</th>\n",
       "      <th>Price</th>\n",
       "      <th>Age_range</th>\n",
       "    </tr>\n",
       "  </thead>\n",
       "  <tbody>\n",
       "    <tr>\n",
       "      <th>0</th>\n",
       "      <td>700-12</td>\n",
       "      <td>Automatic Binding Bricks</td>\n",
       "      <td>Normal</td>\n",
       "      <td>SYSTEM</td>\n",
       "      <td>Basic</td>\n",
       "      <td>BASIC SET</td>\n",
       "      <td>1949.0</td>\n",
       "      <td>142.0</td>\n",
       "      <td>NaN</td>\n",
       "      <td>0.0</td>\n",
       "      <td>NaN</td>\n",
       "    </tr>\n",
       "    <tr>\n",
       "      <th>1</th>\n",
       "      <td>700_1_1-1</td>\n",
       "      <td>Individual 2 x 4 Bricks</td>\n",
       "      <td>Other</td>\n",
       "      <td>SYSTEM</td>\n",
       "      <td>Basic</td>\n",
       "      <td>SUPPLEMENTAL</td>\n",
       "      <td>1950.0</td>\n",
       "      <td>NaN</td>\n",
       "      <td>NaN</td>\n",
       "      <td>0.0</td>\n",
       "      <td>NaN</td>\n",
       "    </tr>\n",
       "    <tr>\n",
       "      <th>2</th>\n",
       "      <td>700_1_2-1</td>\n",
       "      <td>Individual 2 x 2 Bricks</td>\n",
       "      <td>Other</td>\n",
       "      <td>SYSTEM</td>\n",
       "      <td>Basic</td>\n",
       "      <td>SUPPLEMENTAL</td>\n",
       "      <td>1950.0</td>\n",
       "      <td>NaN</td>\n",
       "      <td>NaN</td>\n",
       "      <td>0.0</td>\n",
       "      <td>NaN</td>\n",
       "    </tr>\n",
       "    <tr>\n",
       "      <th>3</th>\n",
       "      <td>700_A-1</td>\n",
       "      <td>Automatic Binding Bricks Small Brick Set (Lego...</td>\n",
       "      <td>Other</td>\n",
       "      <td>SYSTEM</td>\n",
       "      <td>Basic</td>\n",
       "      <td>BASIC SET</td>\n",
       "      <td>1950.0</td>\n",
       "      <td>NaN</td>\n",
       "      <td>NaN</td>\n",
       "      <td>0.0</td>\n",
       "      <td>NaN</td>\n",
       "    </tr>\n",
       "    <tr>\n",
       "      <th>4</th>\n",
       "      <td>700_B_1-1</td>\n",
       "      <td>Individual 1 x 4 x 2 Window (without glass)</td>\n",
       "      <td>Other</td>\n",
       "      <td>SYSTEM</td>\n",
       "      <td>Basic</td>\n",
       "      <td>SUPPLEMENTAL</td>\n",
       "      <td>1950.0</td>\n",
       "      <td>NaN</td>\n",
       "      <td>NaN</td>\n",
       "      <td>0.0</td>\n",
       "      <td>NaN</td>\n",
       "    </tr>\n",
       "    <tr>\n",
       "      <th>...</th>\n",
       "      <td>...</td>\n",
       "      <td>...</td>\n",
       "      <td>...</td>\n",
       "      <td>...</td>\n",
       "      <td>...</td>\n",
       "      <td>...</td>\n",
       "      <td>...</td>\n",
       "      <td>...</td>\n",
       "      <td>...</td>\n",
       "      <td>...</td>\n",
       "      <td>...</td>\n",
       "    </tr>\n",
       "    <tr>\n",
       "      <th>206</th>\n",
       "      <td>IDEASPAB5-1</td>\n",
       "      <td>Modular Racers</td>\n",
       "      <td>Other</td>\n",
       "      <td>MISCELLANEOUS</td>\n",
       "      <td>Miscellaneous</td>\n",
       "      <td>IDEAS PICK A BRICK MODEL</td>\n",
       "      <td>2023</td>\n",
       "      <td>null</td>\n",
       "      <td>null</td>\n",
       "      <td>0</td>\n",
       "      <td>null</td>\n",
       "    </tr>\n",
       "    <tr>\n",
       "      <th>207</th>\n",
       "      <td>IDEASPAB6-1</td>\n",
       "      <td>Garden Dreams</td>\n",
       "      <td>Other</td>\n",
       "      <td>MISCELLANEOUS</td>\n",
       "      <td>Miscellaneous</td>\n",
       "      <td>IDEAS PICK A BRICK MODEL</td>\n",
       "      <td>2023</td>\n",
       "      <td>null</td>\n",
       "      <td>null</td>\n",
       "      <td>0</td>\n",
       "      <td>null</td>\n",
       "    </tr>\n",
       "    <tr>\n",
       "      <th>208</th>\n",
       "      <td>IDEASPAB7-1</td>\n",
       "      <td>Brick-quarium</td>\n",
       "      <td>Other</td>\n",
       "      <td>MISCELLANEOUS</td>\n",
       "      <td>Miscellaneous</td>\n",
       "      <td>IDEAS PICK A BRICK MODEL</td>\n",
       "      <td>2023</td>\n",
       "      <td>null</td>\n",
       "      <td>null</td>\n",
       "      <td>0</td>\n",
       "      <td>null</td>\n",
       "    </tr>\n",
       "    <tr>\n",
       "      <th>209</th>\n",
       "      <td>RABBIT-1</td>\n",
       "      <td>Rabbit</td>\n",
       "      <td>Other</td>\n",
       "      <td>PROMOTIONAL</td>\n",
       "      <td>Miscellaneous</td>\n",
       "      <td>null</td>\n",
       "      <td>2023</td>\n",
       "      <td>32</td>\n",
       "      <td>null</td>\n",
       "      <td>0</td>\n",
       "      <td>null</td>\n",
       "    </tr>\n",
       "    <tr>\n",
       "      <th>210</th>\n",
       "      <td>ROSE3-1</td>\n",
       "      <td>Rose</td>\n",
       "      <td>Other</td>\n",
       "      <td>PROMOTIONAL</td>\n",
       "      <td>Miscellaneous</td>\n",
       "      <td>null</td>\n",
       "      <td>2023</td>\n",
       "      <td>null</td>\n",
       "      <td>null</td>\n",
       "      <td>0</td>\n",
       "      <td>null</td>\n",
       "    </tr>\n",
       "  </tbody>\n",
       "</table>\n",
       "<p>19355 rows × 11 columns</p>\n",
       "</div>"
      ],
      "text/plain": [
       "      Set_number                                               Name Set_type  \\\n",
       "0         700-12                           Automatic Binding Bricks   Normal   \n",
       "1      700_1_1-1                            Individual 2 x 4 Bricks    Other   \n",
       "2      700_1_2-1                            Individual 2 x 2 Bricks    Other   \n",
       "3        700_A-1  Automatic Binding Bricks Small Brick Set (Lego...    Other   \n",
       "4      700_B_1-1        Individual 1 x 4 x 2 Window (without glass)    Other   \n",
       "..           ...                                                ...      ...   \n",
       "206  IDEASPAB5-1                                     Modular Racers    Other   \n",
       "207  IDEASPAB6-1                                      Garden Dreams    Other   \n",
       "208  IDEASPAB7-1                                      Brick-quarium    Other   \n",
       "209     RABBIT-1                                             Rabbit    Other   \n",
       "210      ROSE3-1                                               Rose    Other   \n",
       "\n",
       "             Theme    Theme_group                  Subtheme Year_released  \\\n",
       "0           SYSTEM          Basic                 BASIC SET        1949.0   \n",
       "1           SYSTEM          Basic              SUPPLEMENTAL        1950.0   \n",
       "2           SYSTEM          Basic              SUPPLEMENTAL        1950.0   \n",
       "3           SYSTEM          Basic                 BASIC SET        1950.0   \n",
       "4           SYSTEM          Basic              SUPPLEMENTAL        1950.0   \n",
       "..             ...            ...                       ...           ...   \n",
       "206  MISCELLANEOUS  Miscellaneous  IDEAS PICK A BRICK MODEL          2023   \n",
       "207  MISCELLANEOUS  Miscellaneous  IDEAS PICK A BRICK MODEL          2023   \n",
       "208  MISCELLANEOUS  Miscellaneous  IDEAS PICK A BRICK MODEL          2023   \n",
       "209    PROMOTIONAL  Miscellaneous                      null          2023   \n",
       "210    PROMOTIONAL  Miscellaneous                      null          2023   \n",
       "\n",
       "    Pieces Minifigs Price Age_range  \n",
       "0    142.0      NaN   0.0       NaN  \n",
       "1      NaN      NaN   0.0       NaN  \n",
       "2      NaN      NaN   0.0       NaN  \n",
       "3      NaN      NaN   0.0       NaN  \n",
       "4      NaN      NaN   0.0       NaN  \n",
       "..     ...      ...   ...       ...  \n",
       "206   null     null     0      null  \n",
       "207   null     null     0      null  \n",
       "208   null     null     0      null  \n",
       "209     32     null     0      null  \n",
       "210   null     null     0      null  \n",
       "\n",
       "[19355 rows x 11 columns]"
      ]
     },
     "execution_count": 34,
     "metadata": {},
     "output_type": "execute_result"
    }
   ],
   "source": [
    "fullData"
   ]
  },
  {
   "cell_type": "code",
   "execution_count": 32,
   "id": "cf6e93a1",
   "metadata": {},
   "outputs": [
    {
     "data": {
      "text/plain": [
       "0             700-12\n",
       "1          700_1_1-1\n",
       "2          700_1_2-1\n",
       "3            700_A-1\n",
       "4          700_B_1-1\n",
       "            ...     \n",
       "19139      5007790-1\n",
       "19140      5007851-1\n",
       "19141    BLOCKS099-1\n",
       "19142    BLOCKS100-1\n",
       "19143    BLOCKS101-1\n",
       "Name: Set_number, Length: 19144, dtype: object"
      ]
     },
     "execution_count": 32,
     "metadata": {},
     "output_type": "execute_result"
    }
   ],
   "source": [
    "legoData_old_df['Set_number']"
   ]
  },
  {
   "cell_type": "code",
   "execution_count": null,
   "id": "6cc3767a",
   "metadata": {},
   "outputs": [],
   "source": []
  }
 ],
 "metadata": {
  "kernelspec": {
   "display_name": "Python 3 (ipykernel)",
   "language": "python",
   "name": "python3"
  },
  "language_info": {
   "codemirror_mode": {
    "name": "ipython",
    "version": 3
   },
   "file_extension": ".py",
   "mimetype": "text/x-python",
   "name": "python",
   "nbconvert_exporter": "python",
   "pygments_lexer": "ipython3",
   "version": "3.10.10"
  }
 },
 "nbformat": 4,
 "nbformat_minor": 5
}
