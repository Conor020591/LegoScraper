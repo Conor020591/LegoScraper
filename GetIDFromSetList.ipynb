{
 "cells": [
  {
   "cell_type": "markdown",
   "id": "0ceea11c",
   "metadata": {},
   "source": [
    "# Lego ID Scraper\n",
    "\n",
    "To get the IDs from the Brickset website I scrape them from the \"list by year\" on the website\n",
    "It's trivial to set the year below to a specific year, or to set it to current year to grab new sets for the data."
   ]
  },
  {
   "cell_type": "markdown",
   "id": "f2d210c4",
   "metadata": {},
   "source": [
    "## First library imports and setting up Selenium options\n"
   ]
  },
  {
   "cell_type": "code",
   "execution_count": 2,
   "id": "91291921",
   "metadata": {},
   "outputs": [
    {
     "name": "stdout",
     "output_type": "stream",
     "text": [
      "Packages Imported\n"
     ]
    }
   ],
   "source": [
    "\n",
    "import numpy as np\n",
    "import pandas as pd\n",
    "\n",
    "from selenium import webdriver\n",
    "from selenium.webdriver.common.keys import Keys\n",
    "from selenium.webdriver.common.by import By\n",
    "from selenium.webdriver.chrome.options import Options\n",
    "from selenium import webdriver\n",
    "\n",
    "print('Packages Imported')"
   ]
  },
  {
   "cell_type": "markdown",
   "id": "0e2e04bc",
   "metadata": {},
   "source": [
    "Setting up the Selenium options here, setting it to headless and using the Chrome webdriver"
   ]
  },
  {
   "cell_type": "code",
   "execution_count": 3,
   "id": "04db1157",
   "metadata": {},
   "outputs": [],
   "source": [
    "#selenium setup\n",
    "options = Options()\n",
    "\n",
    "options.add_argument(\"--window-size=1920,1200\")\n",
    "options.add_argument('--headless')\n",
    "driver = webdriver.Chrome(options=options)"
   ]
  },
  {
   "cell_type": "markdown",
   "id": "87535e2f",
   "metadata": {},
   "source": [
    "## Main loop\n",
    "Itterates through the year list and pagelist to get the IDs.\n",
    "\n",
    "2022 has the most pages with 39. I could shorten this down so that each year only uses a certain number of pages associated with it, but this will do for now, as querying empty pages does not take much time."
   ]
  },
  {
   "cell_type": "code",
   "execution_count": null,
   "id": "8ecf823f",
   "metadata": {
    "scrolled": true
   },
   "outputs": [
    {
     "name": "stdout",
     "output_type": "stream",
     "text": [
      "1949\n",
      "1950\n",
      "1951\n",
      "1952\n",
      "1953\n",
      "1954\n",
      "1955\n",
      "1956\n",
      "1957\n",
      "1958\n",
      "1959\n",
      "1960\n",
      "1961\n",
      "1962\n",
      "1963\n",
      "1964\n",
      "1965\n",
      "1966\n",
      "1967\n",
      "1968\n",
      "1969\n",
      "1970\n",
      "1971\n",
      "1972\n",
      "1973\n",
      "1974\n",
      "1975\n",
      "1976\n",
      "1977\n",
      "1978\n",
      "1979\n",
      "1980\n",
      "1981\n",
      "1982\n",
      "1983\n",
      "1984\n",
      "1985\n",
      "1986\n",
      "1987\n",
      "1988\n",
      "1989\n",
      "1990\n",
      "1991\n",
      "1992\n",
      "1993\n",
      "1994\n",
      "1995\n",
      "1996\n",
      "1997\n",
      "1998\n",
      "1999\n",
      "2000\n",
      "2001\n",
      "2002\n"
     ]
    }
   ],
   "source": [
    "years = range(1949,2024)\n",
    "ID_list = []\n",
    "for year in years: \n",
    "  \n",
    "    print(str(year))\n",
    "    pages = range(1,41)\n",
    "    for page in pages:\n",
    "\n",
    "        driver.get('https://brickset.com/sets/year-' +str(year)+'/page-' +str(page))\n",
    "        pageSource = driver.page_source\n",
    "\n",
    "    \n",
    "\n",
    "        ID = driver.find_elements(By.XPATH, \"//div[contains(@class, 'tags')]/a[1][contains(.,'-')]\")\n",
    "        for i in range(0,len(ID)):\n",
    "            if ID[i].text !='':\n",
    "                ID_list.append(ID[i].text)\n",
    "            \n",
    "print(ID_list)"
   ]
  },
  {
   "cell_type": "markdown",
   "id": "ac7ef840",
   "metadata": {},
   "source": [
    "## Print to CSV file"
   ]
  },
  {
   "cell_type": "code",
   "execution_count": 10,
   "id": "81b1eb2d",
   "metadata": {
    "scrolled": true
   },
   "outputs": [],
   "source": [
    "\n",
    "df = pd.DataFrame(ID_list)\n",
    "df.to_csv('SetIDs.csv', sep = ',', index=False,header=False)\n"
   ]
  },
  {
   "cell_type": "code",
   "execution_count": null,
   "id": "22888dbd",
   "metadata": {},
   "outputs": [],
   "source": []
  }
 ],
 "metadata": {
  "kernelspec": {
   "display_name": "Python 3 (ipykernel)",
   "language": "python",
   "name": "python3"
  },
  "language_info": {
   "codemirror_mode": {
    "name": "ipython",
    "version": 3
   },
   "file_extension": ".py",
   "mimetype": "text/x-python",
   "name": "python",
   "nbconvert_exporter": "python",
   "pygments_lexer": "ipython3",
   "version": "3.10.9"
  }
 },
 "nbformat": 4,
 "nbformat_minor": 5
}
