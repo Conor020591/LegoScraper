{
 "cells": [
  {
   "cell_type": "markdown",
   "id": "0ceea11c",
   "metadata": {},
   "source": [
    "# Lego ID Scraper\n",
    "\n",
    "To get the IDs from the Brickset website I scrape them from the \"list by year\" on the website\n",
    "It's trivial to set the year below to a specific year, or to set it to current year to grab new sets for the data."
   ]
  },
  {
   "cell_type": "markdown",
   "id": "f2d210c4",
   "metadata": {},
   "source": [
    "## First library imports and setting up Selenium options\n"
   ]
  },
  {
   "cell_type": "code",
   "execution_count": 1,
   "id": "91291921",
   "metadata": {},
   "outputs": [
    {
     "name": "stdout",
     "output_type": "stream",
     "text": [
      "Packages Imported\n"
     ]
    }
   ],
   "source": [
    "import os\n",
    "import numpy as np\n",
    "import pandas as pd\n",
    "\n",
    "from selenium import webdriver\n",
    "from selenium.webdriver.common.keys import Keys\n",
    "from selenium.webdriver.common.by import By\n",
    "from selenium.webdriver.chrome.options import Options\n",
    "from selenium import webdriver\n",
    "from tqdm.notebook import tqdm\n",
    "\n",
    "print('Packages Imported')"
   ]
  },
  {
   "cell_type": "markdown",
   "id": "0e2e04bc",
   "metadata": {},
   "source": [
    "Setting up the Selenium options here, setting it to headless and using the Chrome webdriver"
   ]
  },
  {
   "cell_type": "code",
   "execution_count": 63,
   "id": "04db1157",
   "metadata": {},
   "outputs": [],
   "source": [
    "#selenium setup\n",
    "def selenium_setup():\n",
    "    options = Options()\n",
    "\n",
    "    options.add_argument(\"--window-size=1920,1200\")\n",
    "    options.add_argument('--headless')\n",
    "    return webdriver.Chrome(options=options)"
   ]
  },
  {
   "cell_type": "markdown",
   "id": "87535e2f",
   "metadata": {},
   "source": [
    "## Main loop\n",
    "Itterates through the year list and pagelist to get the IDs.\n",
    "\n",
    "2022 has the most pages with 39. I could shorten this down so that each year only uses a certain number of pages associated with it, but this will do for now, as querying empty pages does not take much time."
   ]
  },
  {
   "cell_type": "code",
   "execution_count": 20,
   "id": "8ecf823f",
   "metadata": {
    "scrolled": true
   },
   "outputs": [
    {
     "data": {
      "application/vnd.jupyter.widget-view+json": {
       "model_id": "639e20dfa18d4f0aab6275ac18b9a82e",
       "version_major": 2,
       "version_minor": 0
      },
      "text/plain": [
       "Years:   0%|          | 0/75 [00:00<?, ?it/s]"
      ]
     },
     "metadata": {},
     "output_type": "display_data"
    },
    {
     "data": {
      "application/vnd.jupyter.widget-view+json": {
       "model_id": "54b2855767dd4b629be19a7dbd43b4be",
       "version_major": 2,
       "version_minor": 0
      },
      "text/plain": [
       "Pages:   0%|          | 0/40 [00:00<?, ?it/s]"
      ]
     },
     "metadata": {},
     "output_type": "display_data"
    },
    {
     "name": "stdout",
     "output_type": "stream",
     "text": [
      "Complete!\n"
     ]
    }
   ],
   "source": [
    "\n",
    "driver = selenium_setup()\n",
    "years = range(1949,2024)\n",
    "\n",
    "ID_list = []\n",
    "pages = range(1,41)\n",
    "outter_bar = tqdm(years, desc = 'Years',mininterval=0,miniters=1)\n",
    "inner_bar = tqdm(pages, desc = 'Pages',mininterval=0,miniters=1, leave = True)\n",
    "\n",
    "for year in years:    \n",
    "    outter_bar.update(1)\n",
    "    for page in pages:\n",
    "\n",
    "        inner_bar.update(1)\n",
    "        driver.get('https://brickset.com/sets/year-' +str(year)+'/page-' +str(page))\n",
    "        pageSource = driver.page_source\n",
    "\n",
    "        ID = driver.find_elements(By.XPATH, \"//div[contains(@class, 'tags')]/a[1][contains(.,'-')]\")\n",
    "        for i in range(0,len(ID)):\n",
    "            if ID[i].text !='':\n",
    "                ID_list.append(ID[i].text)\n",
    "    inner_bar.reset()\n",
    "print(\"Complete!\")\n"
   ]
  },
  {
   "cell_type": "markdown",
   "id": "ac7ef840",
   "metadata": {},
   "source": [
    "## Print to CSV file"
   ]
  },
  {
   "cell_type": "code",
   "execution_count": 10,
   "id": "81b1eb2d",
   "metadata": {
    "scrolled": true
   },
   "outputs": [],
   "source": [
    "\n",
    "df = pd.DataFrame(ID_list)\n",
    "df.to_csv('SetIDs.csv', sep = ',', index=False,header=False)\n"
   ]
  },
  {
   "cell_type": "markdown",
   "id": "6946005b",
   "metadata": {},
   "source": [
    "## Update \n"
   ]
  },
  {
   "cell_type": "code",
   "execution_count": 104,
   "id": "38b7be02",
   "metadata": {},
   "outputs": [
    {
     "data": {
      "application/vnd.jupyter.widget-view+json": {
       "model_id": "8cec8a59c91e442590eceee9b62b85ae",
       "version_major": 2,
       "version_minor": 0
      },
      "text/plain": [
       "Years:   0%|          | 0/1 [00:00<?, ?it/s]"
      ]
     },
     "metadata": {},
     "output_type": "display_data"
    },
    {
     "data": {
      "application/vnd.jupyter.widget-view+json": {
       "model_id": "6112d0d13f914eeebb4b97c2d5386ad4",
       "version_major": 2,
       "version_minor": 0
      },
      "text/plain": [
       "Pages:   0%|          | 0/40 [00:00<?, ?it/s]"
      ]
     },
     "metadata": {},
     "output_type": "display_data"
    },
    {
     "name": "stdout",
     "output_type": "stream",
     "text": [
      "Complete!\n"
     ]
    }
   ],
   "source": [
    "years = [2023]\n",
    "driver = selenium_setup()\n",
    "if os.path.exists('SetIDs.csv'):\n",
    "    IDs_df = pd.read_csv('SetIDs.csv', index_col=False,header=None)\n",
    "    new_ID_list = []\n",
    "    pages = range(1,41)\n",
    "    outter_bar = tqdm(years, desc = 'Years',mininterval=0,miniters=1)\n",
    "    inner_bar = tqdm(pages, desc = 'Pages',mininterval=0,miniters=1, leave = True)\n",
    "\n",
    "    for year in years:    \n",
    "        outter_bar.update(1)\n",
    "        for page in pages:\n",
    "\n",
    "            inner_bar.update(1)\n",
    "            driver.get('https://brickset.com/sets/year-' +str(year)+'/page-' +str(page))\n",
    "            pageSource = driver.page_source\n",
    "\n",
    "            ID = driver.find_elements(By.XPATH, \"//div[contains(@class, 'tags')]/a[1][contains(.,'-')]\")\n",
    "            for i in range(0,len(ID)):\n",
    "                if ID[i].text !='' and ~IDs_df[0].str.contains(ID[i].text).any():\n",
    "                    \n",
    "                    new_ID_list.append(ID[i].text)\n",
    "\n",
    "        inner_bar.reset()\n",
    "    if len(new_ID_list) >0:\n",
    "        new_ID_df =   pd.DataFrame(new_ID_list) \n",
    "        FullIDs  = pd.concat([IDs_df,new_ID_df])    \n",
    "        FullIDs.to_csv('SetIDs.csv', sep = ',', index=False,header=False)\n",
    "    else:\n",
    "        print(\"No new IDs\")\n",
    "    print(\"Complete!\")\n",
    "    \n",
    "else:\n",
    "   print(\"Perform initial run!\")"
   ]
  },
  {
   "cell_type": "code",
   "execution_count": null,
   "id": "cd262951",
   "metadata": {},
   "outputs": [],
   "source": []
  }
 ],
 "metadata": {
  "kernelspec": {
   "display_name": "Python 3 (ipykernel)",
   "language": "python",
   "name": "python3"
  },
  "language_info": {
   "codemirror_mode": {
    "name": "ipython",
    "version": 3
   },
   "file_extension": ".py",
   "mimetype": "text/x-python",
   "name": "python",
   "nbconvert_exporter": "python",
   "pygments_lexer": "ipython3",
   "version": "3.10.10"
  }
 },
 "nbformat": 4,
 "nbformat_minor": 5
}
